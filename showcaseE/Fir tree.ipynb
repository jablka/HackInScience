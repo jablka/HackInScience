{
 "cells": [
  {
   "cell_type": "code",
   "execution_count": 1,
   "metadata": {},
   "outputs": [],
   "source": [
    "# fir tree ... jedľa, strom\n",
    "\n",
    "# challenge from https://www.hackinscience.org/exercises/sapin"
   ]
  },
  {
   "cell_type": "code",
   "execution_count": 2,
   "metadata": {},
   "outputs": [],
   "source": [
    "def stromek(times):\n",
    "\n",
    "    CONST = 4 # štyri riadky...základ stromku\n",
    "\n",
    "    s1 = ''\n",
    "    buffer = [ ]\n",
    "    base = '*'\n",
    "    slice_ = 0\n",
    "    for t in range(times):\n",
    "\n",
    "        if len(buffer) > 1: # ak je viac ako jednodielový stromček (teda ak t > 0 (druhý a každý ďalší cyklus)... aj takto by sa to dalo napísať)\n",
    "            if (t+1) % 2 == 0: # každý druhý cyklus sa navyšuje slice o 2\n",
    "                slice_ += 2\n",
    "            base = buffer[-1][:-slice_] # base bude teraz posledný riadok, mínus príslušný počet hviezdičiek\n",
    "\n",
    "        for i in range(CONST+t): # tu sa generuje príslušný diel stromčeku\n",
    "            if i == 0:\n",
    "                s1 = base\n",
    "            else:\n",
    "                s1 += '**'\n",
    "            buffer.append(s1)\n",
    "\n",
    "    # kmeň\n",
    "    width = len(buffer[-1])\n",
    "    for i in range(times):\n",
    "        if times % 2 == 0:\n",
    "            s2 = '|' *(times+1)\n",
    "            s2 = s2.center(width)            \n",
    "        else:\n",
    "            s2 = '|' *times\n",
    "            s2 = s2.center(width)\n",
    "\n",
    "        buffer.append(s2) # kmeň do buffra    \n",
    "\n",
    "    # samotné vykreslenie\n",
    "    # width = len(buffer[-1])\n",
    "    for i in buffer:\n",
    "        print(i.center(width))    \n"
   ]
  },
  {
   "cell_type": "code",
   "execution_count": 3,
   "metadata": {},
   "outputs": [
    {
     "name": "stdout",
     "output_type": "stream",
     "text": [
      "   *   \n",
      "  ***  \n",
      " ***** \n",
      "*******\n",
      "   |   \n"
     ]
    }
   ],
   "source": [
    "stromek(1)"
   ]
  },
  {
   "cell_type": "code",
   "execution_count": 4,
   "metadata": {},
   "outputs": [
    {
     "name": "stdout",
     "output_type": "stream",
     "text": [
      "      *      \n",
      "     ***     \n",
      "    *****    \n",
      "   *******   \n",
      "    *****    \n",
      "   *******   \n",
      "  *********  \n",
      " *********** \n",
      "*************\n",
      "     |||     \n",
      "     |||     \n"
     ]
    }
   ],
   "source": [
    "stromek(2)"
   ]
  },
  {
   "cell_type": "code",
   "execution_count": 5,
   "metadata": {},
   "outputs": [
    {
     "name": "stdout",
     "output_type": "stream",
     "text": [
      "          *          \n",
      "         ***         \n",
      "        *****        \n",
      "       *******       \n",
      "        *****        \n",
      "       *******       \n",
      "      *********      \n",
      "     ***********     \n",
      "    *************    \n",
      "     ***********     \n",
      "    *************    \n",
      "   ***************   \n",
      "  *****************  \n",
      " ******************* \n",
      "*********************\n",
      "         |||         \n",
      "         |||         \n",
      "         |||         \n"
     ]
    }
   ],
   "source": [
    "stromek(3)"
   ]
  },
  {
   "cell_type": "code",
   "execution_count": 6,
   "metadata": {},
   "outputs": [
    {
     "name": "stdout",
     "output_type": "stream",
     "text": [
      "              *              \n",
      "             ***             \n",
      "            *****            \n",
      "           *******           \n",
      "            *****            \n",
      "           *******           \n",
      "          *********          \n",
      "         ***********         \n",
      "        *************        \n",
      "         ***********         \n",
      "        *************        \n",
      "       ***************       \n",
      "      *****************      \n",
      "     *******************     \n",
      "    *********************    \n",
      "      *****************      \n",
      "     *******************     \n",
      "    *********************    \n",
      "   ***********************   \n",
      "  *************************  \n",
      " *************************** \n",
      "*****************************\n",
      "            |||||            \n",
      "            |||||            \n",
      "            |||||            \n",
      "            |||||            \n"
     ]
    }
   ],
   "source": [
    "stromek(4)"
   ]
  },
  {
   "cell_type": "code",
   "execution_count": null,
   "metadata": {},
   "outputs": [],
   "source": []
  }
 ],
 "metadata": {
  "kernelspec": {
   "display_name": "Python 3",
   "language": "python",
   "name": "python3"
  },
  "language_info": {
   "codemirror_mode": {
    "name": "ipython",
    "version": 3
   },
   "file_extension": ".py",
   "mimetype": "text/x-python",
   "name": "python",
   "nbconvert_exporter": "python",
   "pygments_lexer": "ipython3",
   "version": "3.11.1"
  },
  "orig_nbformat": 4
 },
 "nbformat": 4,
 "nbformat_minor": 2
}
